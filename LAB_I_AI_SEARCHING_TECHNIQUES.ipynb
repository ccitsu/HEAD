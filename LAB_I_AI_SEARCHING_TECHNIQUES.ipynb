{
  "nbformat": 4,
  "nbformat_minor": 0,
  "metadata": {
    "colab": {
      "provenance": [],
      "collapsed_sections": [],
      "authorship_tag": "ABX9TyPqeIpHz07ZcrwBfFwJZn9/"
    },
    "kernelspec": {
      "name": "python3",
      "display_name": "Python 3"
    },
    "language_info": {
      "name": "python"
    }
  },
  "cells": [
    {
      "cell_type": "markdown",
      "source": [
        "# Depth First Search Algorithm Implementation: AI Searching Techniques!\n",
        "\n",
        "---\n",
        "\n",
        "\n"
      ],
      "metadata": {
        "id": "ytPmljFfl3CX"
      }
    },
    {
      "cell_type": "code",
      "source": [
        "# DFS algorithm\n",
        "def dfs(graph, start, visited=None):\n",
        "    if visited is None:\n",
        "        visited = set()\n",
        "    visited.add(start)\n",
        "\n",
        "    print(start)\n",
        "\n",
        "    for next in graph[start] - visited:\n",
        "        dfs(graph, next, visited)\n",
        "    return visited\n",
        "\n",
        "\n",
        "graph = {'0': set(['1', '2']),\n",
        "         '1': set(['0', '3', '4']),\n",
        "         '2': set(['0']),\n",
        "         '3': set(['1']),\n",
        "         '4': set(['2', '3'])}\n",
        "\n",
        "dfs(graph, '0')"
      ],
      "metadata": {
        "colab": {
          "base_uri": "https://localhost:8080/"
        },
        "id": "OT-zT7-kl6dn",
        "outputId": "e1241301-dd21-471c-8846-671ee339dd2e"
      },
      "execution_count": null,
      "outputs": [
        {
          "output_type": "stream",
          "name": "stdout",
          "text": [
            "0\n",
            "1\n",
            "4\n",
            "2\n",
            "3\n",
            "3\n",
            "2\n"
          ]
        },
        {
          "output_type": "execute_result",
          "data": {
            "text/plain": [
              "{'0', '1', '2', '3', '4'}"
            ]
          },
          "metadata": {},
          "execution_count": 6
        }
      ]
    },
    {
      "cell_type": "markdown",
      "source": [
        "# Breadth First Search Algorithm Implementation: AI Searching Techniques!\n"
      ],
      "metadata": {
        "id": "cOA86Vn1l-bw"
      }
    },
    {
      "cell_type": "code",
      "source": [
        "# BFS algorithm in Python\n",
        "import collections\n",
        "def bfs(graph, root):\n",
        "\n",
        "    visited, queue = set(), collections.deque([root])\n",
        "    visited.add(root)\n",
        "\n",
        "    while queue:\n",
        "\n",
        "        # Dequeue a vertex from queue\n",
        "        vertex = queue.popleft()\n",
        "        print(str(vertex) + \" \", end=\"\")\n",
        "\n",
        "        # If not visited, mark it as visited, and\n",
        "        # enqueue it\n",
        "        for neighbour in graph[vertex]:\n",
        "            if neighbour not in visited:\n",
        "                visited.add(neighbour)\n",
        "                queue.append(neighbour)\n",
        "\n",
        "\n",
        "if __name__ == '__main__':\n",
        "    graph = {0: [1, 2], 1: [2], 2: [3], 3: [1, 2]}\n",
        "    print(\"Following is Breadth First Traversal: \")\n",
        "    bfs(graph, 0)\n"
      ],
      "metadata": {
        "colab": {
          "base_uri": "https://localhost:8080/"
        },
        "id": "I4bh1J51mFxO",
        "outputId": "086e21a5-1f0e-4dd1-b054-ed8c62d0e818"
      },
      "execution_count": null,
      "outputs": [
        {
          "output_type": "stream",
          "name": "stdout",
          "text": [
            "Following is Breadth First Traversal: \n",
            "0 1 2 3 "
          ]
        }
      ]
    },
    {
      "cell_type": "markdown",
      "source": [
        "# Best First Search Algorithm Implementation: AI Searching Techniques!\n"
      ],
      "metadata": {
        "id": "VXgUPPV8lk3q"
      }
    },
    {
      "cell_type": "code",
      "execution_count": null,
      "metadata": {
        "id": "OwpMSE95kuNa"
      },
      "outputs": [],
      "source": [
        "from queue import PriorityQueue\n",
        "\n",
        "import matplotlib.pyplot as plt\n",
        "import networkx as nx\n",
        "\n",
        "# for implementing BFS | returns path having lowest cost\n",
        "def best_first_search(source, target, n):\n",
        "    visited = [0] * n\n",
        "    visited[source] = True\n",
        "    pq = PriorityQueue()\n",
        "    pq.put((0, source))\n",
        "    while pq.empty() == False:\n",
        "        u = pq.get()[1]\n",
        "        print(u, end=\" \") # the path having lowest cost\n",
        "        if u == target:\n",
        "            break\n",
        "\n",
        "        for v, c in graph[u]:\n",
        "            if visited[v] == False:\n",
        "                visited[v] = True\n",
        "                pq.put((c, v))\n",
        "    print()\n",
        "\n",
        "# for adding edges to graph\n",
        "def addedge(x, y, cost):\n",
        "    graph[x].append((y, cost))\n",
        "    graph[y].append((x, cost))\n",
        "\n",
        "G = nx.Graph()\n",
        "v = int(input(\"Enter the number of nodes: \"))\n",
        "graph = [[] for i in range(v)] # undirected Graph\n",
        "e = int(input(\"Enter the number of edges: \"))\n",
        "print(\"Enter the edges along with their weights:\")\n",
        "for i in range(e):\n",
        "    x, y, z = list(map(int, input().split()))\n",
        "    addedge(x, y, z)\n",
        "    G.add_edge(x, y, weight = z)\n",
        "\n",
        "source = int(input(\"Enter the Source Node: \"))\n",
        "target = int(input(\"Enter the Target/Destination Node: \"))\n",
        "print(\"\\nPath: \", end = \"\")\n",
        "best_first_search(source, target, v)\n",
        "print(\"Graph:\\n\")\n",
        "pos = nx.spring_layout(G, seed=7)  # positions for all nodes - seed for reproducibility\n",
        "\n",
        "# nodes\n",
        "nx.draw_networkx_nodes(G, pos, node_size=350)\n",
        "\n",
        "# edges\n",
        "nx.draw_networkx_edges(G, pos)\n",
        "nx.draw_networkx_edges(G, pos, alpha=0.5, edge_color=\"r\")\n",
        "\n",
        "# labels\n",
        "nx.draw_networkx_labels(G, pos, font_size=20)\n",
        "\n",
        "ax = plt.gca()\n",
        "ax.margins(0.08)\n",
        "plt.axis(\"off\")\n",
        "plt.tight_layout()\n",
        "plt.show()"
      ]
    },
    {
      "cell_type": "markdown",
      "source": [
        "# A* Algorithm Implementation: AI Searching Techniques! "
      ],
      "metadata": {
        "id": "vyaMQZFpmLpO"
      }
    },
    {
      "cell_type": "code",
      "source": [
        "# graph class\n",
        "class Graph:\n",
        "    \n",
        "    # init class\n",
        "    def __init__(self, graph_dict=None, directed=True):\n",
        "        self.graph_dict = graph_dict or {}\n",
        "        self.directed = directed\n",
        "        if not directed:\n",
        "            self.make_undirected()\n",
        "\n",
        "    # create undirected graph by adding symmetric edges\n",
        "    def make_undirected(self):\n",
        "        for a in list(self.graph_dict.keys()):\n",
        "            for (b, dist) in self.graph_dict[a].items():\n",
        "                self.graph_dict.setdefault(b, {})[a] = dist\n",
        "\n",
        "    # add link from A and B of given distance, and also add the inverse link if the graph is undirected\n",
        "    def connect(self, A, B, distance=1):\n",
        "        self.graph_dict.setdefault(A, {})[B] = distance\n",
        "        if not self.directed:\n",
        "            self.graph_dict.setdefault(B, {})[A] = distance\n",
        "\n",
        "    # get neighbors or a neighbor\n",
        "    def get(self, a, b=None):\n",
        "        links = self.graph_dict.setdefault(a, {})\n",
        "        if b is None:\n",
        "            return links\n",
        "        else:\n",
        "            return links.get(b)\n",
        "\n",
        "    # return list of nodes in the graph\n",
        "    def nodes(self):\n",
        "        s1 = set([k for k in self.graph_dict.keys()])\n",
        "        s2 = set([k2 for v in self.graph_dict.values() for k2, v2 in v.items()])\n",
        "        nodes = s1.union(s2)\n",
        "        return list(nodes)\n",
        "\n",
        "# node class\n",
        "class Node:\n",
        "\n",
        "    # init class\n",
        "    def __init__(self, name:str, parent:str):\n",
        "        self.name = name\n",
        "        self.parent = parent\n",
        "        self.g = 0 # distance to start node\n",
        "        self.h = 0 # distance to goal node\n",
        "        self.f = 0 # total cost\n",
        "\n",
        "    # compare nodes\n",
        "    def __eq__(self, other):\n",
        "        return self.name == other.name\n",
        "\n",
        "    # sort nodes\n",
        "    def __lt__(self, other):\n",
        "         return self.f < other.f\n",
        "\n",
        "    # print node\n",
        "    def __repr__(self):\n",
        "        return ('({0},{1})'.format(self.name, self.f))\n",
        "\n",
        "# A* search\n",
        "def astar_search(graph, heuristics, start, end):\n",
        "    \n",
        "    # lists for open nodes and closed nodes\n",
        "    open = []\n",
        "    closed = []\n",
        "\n",
        "    # a start node and an goal node\n",
        "    start_node = Node(start, None)\n",
        "    goal_node = Node(end, None)\n",
        "\n",
        "    # add start node\n",
        "    open.append(start_node)\n",
        "    \n",
        "    # loop until the open list is empty\n",
        "    while len(open) > 0:\n",
        "\n",
        "       \n",
        "        open.sort()                                 # sort open list to get the node with the lowest cost first\n",
        "        current_node = open.pop(0)                  # get node with the lowest cost\n",
        "        closed.append(current_node)                 # add current node to the closed list\n",
        "        \n",
        "        # check if we have reached the goal, return the path\n",
        "        if current_node == goal_node:\n",
        "            path = []\n",
        "            while current_node != start_node:\n",
        "                path.append(current_node.name + ': ' + str(current_node.g))\n",
        "                current_node = current_node.parent\n",
        "            path.append(start_node.name + ': ' + str(start_node.g))\n",
        "            return path[::-1]\n",
        "\n",
        "        \n",
        "        neighbors = graph.get(current_node.name)    # get neighbours\n",
        "        \n",
        "        # loop neighbors\n",
        "        for key, value in neighbors.items():\n",
        "            neighbor = Node(key, current_node)      # create neighbor node\n",
        "            if(neighbor in closed):                 # check if the neighbor is in the closed list\n",
        "                continue\n",
        "\n",
        "            # calculate full path cost\n",
        "            neighbor.g = current_node.g + graph.get(current_node.name, neighbor.name)\n",
        "            neighbor.h = heuristics.get(neighbor.name)\n",
        "            neighbor.f = neighbor.g + neighbor.h\n",
        "\n",
        "            # check if neighbor is in open list and if it has a lower f value\n",
        "            if(add_to_open(open, neighbor) == True):\n",
        "\n",
        "                # everything is green, add neighbor to open list\n",
        "                open.append(neighbor)\n",
        "\n",
        "    # return None, no path is found\n",
        "    return None\n",
        "\n",
        "# check if a neighbor should be added to open list\n",
        "def add_to_open(open, neighbor):\n",
        "    for node in open:\n",
        "        if (neighbor == node and neighbor.f > node.f):\n",
        "            return False\n",
        "    return True\n",
        "\n",
        "# create a graph\n",
        "graph = Graph() # user-based input for edges will be updated in the upcoming days\n",
        "# create graph connections (Actual distance)\n",
        "graph.connect('Frankfurt', 'Wurzburg', 111)\n",
        "graph.connect('Frankfurt', 'Mannheim', 85)\n",
        "graph.connect('Wurzburg', 'Nurnberg', 104)\n",
        "graph.connect('Wurzburg', 'Stuttgart', 140)\n",
        "graph.connect('Wurzburg', 'Ulm', 183)\n",
        "graph.connect('Mannheim', 'Nurnberg', 230)\n",
        "graph.connect('Mannheim', 'Karlsruhe', 67)\n",
        "graph.connect('Karlsruhe', 'Basel', 191)\n",
        "graph.connect('Karlsruhe', 'Stuttgart', 64)\n",
        "graph.connect('Nurnberg', 'Ulm', 171)\n",
        "graph.connect('Nurnberg', 'Munchen', 170)\n",
        "graph.connect('Nurnberg', 'Passau', 220)\n",
        "graph.connect('Stuttgart', 'Ulm', 107)\n",
        "graph.connect('Basel', 'Bern', 91)\n",
        "graph.connect('Basel', 'Zurich', 85)\n",
        "graph.connect('Bern', 'Zurich', 120)\n",
        "graph.connect('Zurich', 'Memmingen', 184)\n",
        "graph.connect('Memmingen', 'Ulm', 55)\n",
        "graph.connect('Memmingen', 'Munchen', 115)\n",
        "graph.connect('Munchen', 'Ulm', 123)\n",
        "graph.connect('Munchen', 'Passau', 189)\n",
        "graph.connect('Munchen', 'Rosenheim', 59)\n",
        "graph.connect('Rosenheim', 'Salzburg', 81)\n",
        "graph.connect('Passau', 'Linz', 102)\n",
        "graph.connect('Salzburg', 'Linz', 126)\n",
        "# make graph undirected, create symmetric connections\n",
        "graph.make_undirected()\n",
        "# create heuristics (straight-line distance, air-travel distance)\n",
        "heuristics = {}\n",
        "heuristics['Basel'] = 204\n",
        "heuristics['Bern'] = 247\n",
        "heuristics['Frankfurt'] = 215\n",
        "heuristics['Karlsruhe'] = 137\n",
        "heuristics['Linz'] = 318\n",
        "heuristics['Mannheim'] = 164\n",
        "heuristics['Munchen'] = 120\n",
        "heuristics['Memmingen'] = 47\n",
        "heuristics['Nurnberg'] = 132\n",
        "heuristics['Passau'] = 257\n",
        "heuristics['Rosenheim'] = 168\n",
        "heuristics['Stuttgart'] = 75\n",
        "heuristics['Salzburg'] = 236\n",
        "heuristics['Wurzburg'] = 153\n",
        "heuristics['Zurich'] = 157\n",
        "heuristics['Ulm'] = 0\n",
        "# run the search algorithm\n",
        "path = astar_search(graph, heuristics, 'Frankfurt', 'Ulm')\n",
        "print(\"Path:\", path)"
      ],
      "metadata": {
        "colab": {
          "base_uri": "https://localhost:8080/"
        },
        "id": "pVUj-W2pmUGO",
        "outputId": "57774bce-25ad-4350-857d-5b3b186d6beb"
      },
      "execution_count": null,
      "outputs": [
        {
          "output_type": "stream",
          "name": "stdout",
          "text": [
            "Path: ['Frankfurt: 0', 'Wurzburg: 111', 'Ulm: 294']\n"
          ]
        }
      ]
    }
  ]
}